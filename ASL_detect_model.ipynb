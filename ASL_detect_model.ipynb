{
  "nbformat": 4,
  "nbformat_minor": 0,
  "metadata": {
    "colab": {
      "provenance": [],
      "authorship_tag": "ABX9TyP4TXjjEah8uIaL6WhgAgTC",
      "include_colab_link": true
    },
    "kernelspec": {
      "name": "python3",
      "display_name": "Python 3"
    },
    "language_info": {
      "name": "python"
    }
  },
  "cells": [
    {
      "cell_type": "markdown",
      "metadata": {
        "id": "view-in-github",
        "colab_type": "text"
      },
      "source": [
        "<a href=\"https://colab.research.google.com/github/quangminh141005/Image_detection/blob/main/ASL_detect_model.ipynb\" target=\"_parent\"><img src=\"https://colab.research.google.com/assets/colab-badge.svg\" alt=\"Open In Colab\"/></a>"
      ]
    },
    {
      "cell_type": "markdown",
      "source": [
        "## This is the testing part"
      ],
      "metadata": {
        "id": "HRq0Hb6m20JF"
      }
    },
    {
      "cell_type": "code",
      "source": [
        "import struct\n",
        "\n",
        "data = b'\\x00\\x00\\x08\\x03\\x00\\x00\\xea\\x60\\x00\\x00\\x00\\x1c\\x00\\x00\\x00\\x1c'\n",
        "magic, num_images, row, cols = struct.unpack('>IIII', data)\n",
        "\n",
        "print(\"Magic:\", magic)         # 2051\n",
        "print(\"Number of images:\", num_images)  # 60000\n",
        "print(\"Rows:\", row)            # 28\n",
        "print(\"Cols:\", cols)           # 28\n"
      ],
      "metadata": {
        "colab": {
          "base_uri": "https://localhost:8080/"
        },
        "id": "sJfy5AFtzeN9",
        "outputId": "083f8b8b-cb05-4a26-c151-301c893b3b68"
      },
      "execution_count": null,
      "outputs": [
        {
          "output_type": "stream",
          "name": "stdout",
          "text": [
            "Magic: 2051\n",
            "Number of images: 60000\n",
            "Rows: 28\n",
            "Cols: 28\n"
          ]
        }
      ]
    },
    {
      "cell_type": "code",
      "source": [
        "filename = \"/train-images.idx3-ubyte\"\n",
        "\n",
        "with open(filename, 'rb') as f:\n",
        "  data = f.read()"
      ],
      "metadata": {
        "id": "jKVwRYCG2zDk"
      },
      "execution_count": null,
      "outputs": []
    },
    {
      "cell_type": "code",
      "source": [
        "print(\"First 20 bytes (hex):\", data[:20].hex())"
      ],
      "metadata": {
        "colab": {
          "base_uri": "https://localhost:8080/"
        },
        "id": "jNq_Edqi3XTJ",
        "outputId": "f486f049-fd4d-45a6-a2d8-c806faedfb8b"
      },
      "execution_count": null,
      "outputs": [
        {
          "output_type": "stream",
          "name": "stdout",
          "text": [
            "First 20 bytes (hex): 000008030000ea600000001c0000001c00000000\n"
          ]
        }
      ]
    },
    {
      "cell_type": "code",
      "source": [
        "import struct\n",
        "\n",
        "# First 4 bytes\n",
        "magic = struct.unpack('>I', data[:4])[0]\n",
        "print(\"Magic number: \", magic)\n",
        "\n",
        "# Next 4 bytes\n",
        "num_images = struct.unpack('>I', data[4:8])[0]\n",
        "print(\"Number of images:\", num_images)\n",
        "\n",
        "# Next 4 bytes\n",
        "rows = struct.unpack('>I', data[8:12])[0]\n",
        "cols = struct.unpack('>I', data[12:16])[0]\n",
        "print(f\"Image size: {rows} x {cols}\")"
      ],
      "metadata": {
        "id": "s1D57RGO3mXJ",
        "colab": {
          "base_uri": "https://localhost:8080/"
        },
        "outputId": "5e0923d3-34a8-4226-8133-a184659bc179"
      },
      "execution_count": null,
      "outputs": [
        {
          "output_type": "stream",
          "name": "stdout",
          "text": [
            "Magic number:  2051\n",
            "Number of images: 60000\n",
            "Image size: 28 x 28\n"
          ]
        }
      ]
    },
    {
      "cell_type": "code",
      "source": [
        "image_start = 16\n",
        "image_size = rows * cols\n",
        "first_image = data[image_start:image_start + image_size]\n",
        "\n",
        "# Convert to list of pixel value\n",
        "pixels = list(first_image)\n",
        "print(pixels[:50]) # show first 50 pixels"
      ],
      "metadata": {
        "colab": {
          "base_uri": "https://localhost:8080/"
        },
        "id": "GKeleL5Q2nIu",
        "outputId": "05a6f1e4-9aaa-4ffb-99b1-480557d5065a"
      },
      "execution_count": null,
      "outputs": [
        {
          "output_type": "stream",
          "name": "stdout",
          "text": [
            "[0, 0, 0, 0, 0, 0, 0, 0, 0, 0, 0, 0, 0, 0, 0, 0, 0, 0, 0, 0, 0, 0, 0, 0, 0, 0, 0, 0, 0, 0, 0, 0, 0, 0, 0, 0, 0, 0, 0, 0, 0, 0, 0, 0, 0, 0, 0, 0, 0, 0]\n"
          ]
        }
      ]
    },
    {
      "cell_type": "code",
      "source": [
        "import matplotlib.pyplot as plt\n",
        "import numpy as np\n",
        "\n",
        "plt.imshow(np.array(pixels).reshape(rows, cols), cmap='gray')\n",
        "plt.axis('off')\n",
        "plt.show()"
      ],
      "metadata": {
        "colab": {
          "base_uri": "https://localhost:8080/",
          "height": 406
        },
        "id": "CkYsNk1w2nGX",
        "outputId": "f9376804-f00d-486b-c471-2260f901d648"
      },
      "execution_count": null,
      "outputs": [
        {
          "output_type": "display_data",
          "data": {
            "text/plain": [
              "<Figure size 640x480 with 1 Axes>"
            ],
            "image/png": "[encoded data removed]"
          },
          "metadata": {}
        }
      ]
    },
    {
      "cell_type": "markdown",
      "source": [
        "## First step: Load and  prepare MNIST dataset"
      ],
      "metadata": {
        "id": "Jlh-U8PJ2nDp"
      }
    },
    {
      "cell_type": "code",
      "source": [
        "import numpy as np\n",
        "import gzip\n",
        "import struct\n",
        "\n",
        "def load_images(filename):\n",
        "  with open(filename, 'rb') as f:\n",
        "    magic, num, rows, cols = struct.unpack(\">IIII\", f.read(16))\n",
        "    print(f\"Magic = {magic}, num = {num}, rows = {rows}, cols = {cols}\")\n",
        "    images = np.frombuffer(f.read(), dtype=np.uint8).reshape(num, 1, rows, cols)\n",
        "    return images.astype(np.float32) / 255.0\n",
        "\n",
        "def load_labels(filename):\n",
        "  with open(filename, 'rb') as f:\n",
        "    magic, num = struct.unpack(\">II\", f.read(8))\n",
        "    labels = np.frombuffer(f.read(), dtype=np.uint8)\n",
        "    return labels"
      ],
      "metadata": {
        "id": "rOwyio2l2m8T"
      },
      "execution_count": null,
      "outputs": []
    },
    {
      "cell_type": "code",
      "source": [
        "X_train = load_images(\"/content/train-images.idx3-ubyte\")\n",
        "y_train = load_labels(\"/content/train-labels.idx1-ubyte\")\n",
        "X_test = load_images(\"/content/t10k-images.idx3-ubyte\")\n",
        "y_test = load_labels(\"/content/t10k-labels.idx1-ubyte\")\n",
        "\n",
        "print(\"Train images shape: \", X_train.shape)\n",
        "print(\"Train labels shape: \", y_train.shape)\n",
        "print(\"Test images shape: \", X_test.shape)"
      ],
      "metadata": {
        "id": "yvFe7lMW2mv_",
        "colab": {
          "base_uri": "https://localhost:8080/"
        },
        "outputId": "0c95b677-9fe2-4245-d1ec-066131343400"
      },
      "execution_count": null,
      "outputs": [
        {
          "output_type": "stream",
          "name": "stdout",
          "text": [
            "Magic = 2051, num = 60000, rows = 28, cols = 28\n",
            "Magic = 2051, num = 10000, rows = 28, cols = 28\n",
            "Train images shape:  (60000, 1, 28, 28)\n",
            "Train labels shape:  (60000,)\n",
            "Test images shape:  (10000, 1, 28, 28)\n"
          ]
        }
      ]
    },
    {
      "cell_type": "markdown",
      "source": [
        "`im2col` helps with turning the image into many small overlapping patches, and then arranges those patches into rows of a big matrix"
      ],
      "metadata": {
        "id": "aQYSyTM7GPx4"
      }
    },
    {
      "cell_type": "code",
      "source": [
        "print(X_train.shape)\n",
        "print(y_train.shape)\n"
      ],
      "metadata": {
        "colab": {
          "base_uri": "https://localhost:8080/"
        },
        "id": "qhsKuqKG2Dgu",
        "outputId": "5740ec39-d2e8-4b7a-827d-9a16b352b8c6"
      },
      "execution_count": null,
      "outputs": [
        {
          "output_type": "stream",
          "name": "stdout",
          "text": [
            "(60000, 1, 28, 28)\n",
            "(60000,)\n"
          ]
        }
      ]
    },
    {
      "cell_type": "code",
      "source": [
        "print(X_train.min(), X_train.max())"
      ],
      "metadata": {
        "colab": {
          "base_uri": "https://localhost:8080/"
        },
        "id": "Tw5Z3l4g2Deb",
        "outputId": "887e22eb-5068-4a28-9d54-95d3fa63847e"
      },
      "execution_count": null,
      "outputs": [
        {
          "output_type": "stream",
          "name": "stdout",
          "text": [
            "0.0 1.0\n"
          ]
        }
      ]
    },
    {
      "cell_type": "code",
      "source": [
        "import numpy as np\n",
        "\n",
        "def im2col(image, kernel_size, stride):\n",
        "  H, W = image.shape\n",
        "  KH = KW = kernel_size\n",
        "  out_h = (H - KH) // stride + 1\n",
        "  out_w = (W - KW) // stride + 1\n",
        "\n",
        "  cols = []\n",
        "  for i in range(0, out_h):\n",
        "    for j in range(0, out_w):\n",
        "      patch = image[i * stride:i * stride + KH, j * stride: j * stride + KW]\n",
        "      cols.append(patch.flatten())\n",
        "\n",
        "  return np.array(cols)"
      ],
      "metadata": {
        "id": "QK5sRVEUT5AR"
      },
      "execution_count": 15,
      "outputs": []
    },
    {
      "cell_type": "code",
      "source": [
        "img = np.arange(9).reshape(3,-1)\n",
        "print(img)\n",
        "print(im2col(img, 2, 1))"
      ],
      "metadata": {
        "colab": {
          "base_uri": "https://localhost:8080/"
        },
        "id": "m1gmSdSOU8uB",
        "outputId": "9f413f30-2853-471a-dff6-70e4a1e019a4"
      },
      "execution_count": 16,
      "outputs": [
        {
          "output_type": "stream",
          "name": "stdout",
          "text": [
            "[[0 1 2]\n",
            " [3 4 5]\n",
            " [6 7 8]]\n",
            "[[0 1 3 4]\n",
            " [1 2 4 5]\n",
            " [3 4 6 7]\n",
            " [4 5 7 8]]\n"
          ]
        }
      ]
    },
    {
      "cell_type": "code",
      "source": [
        "|class Conv2D:\n",
        "  def __init__(self, in_channels, out_channels, kernel_size, stride=1, padding=0):\n",
        "    self.in_channels = in_channels\n",
        "    self.out_channels = out_channels\n",
        "    self.kernel_size = kernel_size\n",
        "    self.stride = stride\n",
        "    self.padding = padding\n",
        "\n",
        "    scale = np.sqrt(1. / (in_channels * kernel_size * kernel_size))\n",
        "    self.weights = np.random.randn(out_channels, in_channels, kernel_size, kernel_size) * scale\n",
        "    self.biases = np.zeros(out_channels)\n",
        "\n"
      ],
      "metadata": {
        "id": "oQKWnlwq2Dbh"
      },
      "execution_count": null,
      "outputs": []
    },
    {
      "cell_type": "code",
      "source": [],
      "metadata": {
        "id": "2xrhHoz12DWn"
      },
      "execution_count": null,
      "outputs": []
    },
    {
      "cell_type": "code",
      "source": [],
      "metadata": {
        "id": "mLeg087x2DUI"
      },
      "execution_count": null,
      "outputs": []
    },
    {
      "cell_type": "code",
      "source": [],
      "metadata": {
        "id": "UAzixU9q2DRb"
      },
      "execution_count": null,
      "outputs": []
    },
    {
      "cell_type": "code",
      "source": [],
      "metadata": {
        "id": "RK_ed_Qn2DO3"
      },
      "execution_count": null,
      "outputs": []
    },
    {
      "cell_type": "code",
      "source": [],
      "metadata": {
        "id": "mgs0-mgO2DME"
      },
      "execution_count": null,
      "outputs": []
    },
    {
      "cell_type": "code",
      "source": [],
      "metadata": {
        "id": "eqkDsiMX2C-J"
      },
      "execution_count": null,
      "outputs": []
    }
  ]
}